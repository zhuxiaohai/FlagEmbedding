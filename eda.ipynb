{
 "cells": [
  {
   "cell_type": "code",
   "execution_count": null,
   "outputs": [],
   "source": [
    "CUDA_VISIBLE_DEVICES=0,1 torchrun --nproc_per_node 2 \\\n",
    "-m FlagEmbedding.baai_general_embedding.finetune.run \\\n",
    "--output_dir /workspace/data/private/zhuxiaohai/models/bge_emb_finetune_from_db \\\n",
    "--model_name_or_path /data/dataset/huggingface/hub/bge-large-zh-v1.5 \\\n",
    "--train_data /data/dataset/kefu/bge_finetune_emb_from_db2.jsonl \\\n",
    "--learning_rate 1e-5 \\\n",
    "--fp16 \\\n",
    "--num_train_epochs 5 \\\n",
    "--per_device_train_batch_size 4 \\\n",
    "--negatives_cross_device False \\\n",
    "--dataloader_drop_last False \\\n",
    "--normlized True \\\n",
    "--temperature 0.02 \\\n",
    "--query_max_len 96 \\\n",
    "--passage_max_len 256 \\\n",
    "--train_group_size 6 \\\n",
    "--logging_steps 10 \\\n",
    "--use_inbatch_neg True \\\n",
    "--save_steps 100 \\\n",
    "--query_instruction_for_retrieval \"为这个句子生成表示以用于检索相关文章：\" \\\n",
    "--gradient_accumulation_steps 8"
   ],
   "metadata": {
    "collapsed": false
   },
   "id": "1ee96234ab899a34"
  },
  {
   "cell_type": "code",
   "execution_count": 1,
   "id": "initial_id",
   "metadata": {
    "collapsed": true,
    "ExecuteTime": {
     "end_time": "2024-04-30T10:41:05.725612800Z",
     "start_time": "2024-04-30T10:41:05.308672857Z"
    }
   },
   "outputs": [],
   "source": [
    "import numpy as np \n",
    "import os\n",
    "import pandas as pd \n",
    "os.environ[\"CUDA_VISIBLE_DEVICES\"] = \"0\"  # 使用GPU 0"
   ]
  },
  {
   "cell_type": "code",
   "execution_count": 2,
   "outputs": [],
   "source": [
    "dd = pd.read_csv(\"/data/dataset/kefu/emb.csv\")\n",
    "dd.columns = ['question', 'emb']"
   ],
   "metadata": {
    "collapsed": false,
    "ExecuteTime": {
     "end_time": "2024-04-30T10:41:06.865296072Z",
     "start_time": "2024-04-30T10:41:06.849673169Z"
    }
   },
   "id": "44397bdf4661218a"
  },
  {
   "cell_type": "code",
   "execution_count": 3,
   "outputs": [],
   "source": [
    "from FlagEmbedding import FlagModel"
   ],
   "metadata": {
    "collapsed": false,
    "ExecuteTime": {
     "end_time": "2024-04-30T10:41:11.399804356Z",
     "start_time": "2024-04-30T10:41:07.466534451Z"
    }
   },
   "id": "b9670b7ac67b1f28"
  },
  {
   "cell_type": "code",
   "execution_count": 8,
   "outputs": [],
   "source": [
    "model = FlagModel('/workspace/data/private/zhuxiaohai/models/bge_finetune_emb', use_fp16=False) # Setting use_fp16 to True speeds up computation with a slight performance degradation"
   ],
   "metadata": {
    "collapsed": false,
    "ExecuteTime": {
     "end_time": "2024-04-30T10:41:47.235330365Z",
     "start_time": "2024-04-30T10:41:46.676172952Z"
    }
   },
   "id": "6d5502be96b0ebe4"
  },
  {
   "cell_type": "code",
   "execution_count": 9,
   "outputs": [],
   "source": [
    "q_embeddings = model.encode(dd.question.tolist())"
   ],
   "metadata": {
    "collapsed": false,
    "ExecuteTime": {
     "end_time": "2024-04-30T10:41:48.043395501Z",
     "start_time": "2024-04-30T10:41:47.975772656Z"
    }
   },
   "id": "38bece73b84f07b"
  },
  {
   "cell_type": "code",
   "execution_count": 11,
   "outputs": [],
   "source": [
    "from sentence_transformers import SentenceTransformer\n",
    "\n",
    "model2 = SentenceTransformer('/workspace/data/private/zhuxiaohai/models/bge_finetune_emb')\n",
    "\n",
    "q_embeddings2 = model2.encode(dd.question.tolist(), normalize_embeddings=True, batch_size=32)"
   ],
   "metadata": {
    "collapsed": false,
    "ExecuteTime": {
     "end_time": "2024-04-30T10:42:31.942156807Z",
     "start_time": "2024-04-30T10:42:31.228412055Z"
    }
   },
   "id": "2df9a6443accf4aa"
  },
  {
   "cell_type": "code",
   "execution_count": 12,
   "outputs": [
    {
     "data": {
      "text/plain": "(38, 1024)"
     },
     "execution_count": 12,
     "metadata": {},
     "output_type": "execute_result"
    }
   ],
   "source": [
    "q_embeddings2.shape"
   ],
   "metadata": {
    "collapsed": false,
    "ExecuteTime": {
     "end_time": "2024-04-30T10:42:38.027364471Z",
     "start_time": "2024-04-30T10:42:37.983210379Z"
    }
   },
   "id": "33c3f8c5e9666455"
  },
  {
   "cell_type": "code",
   "execution_count": 13,
   "outputs": [],
   "source": [
    "for i in range(dd.shape[0]):\n",
    "    np.testing.assert_array_equal(q_embeddings2[i], q_embeddings2[i])"
   ],
   "metadata": {
    "collapsed": false,
    "ExecuteTime": {
     "end_time": "2024-04-30T10:43:24.391363418Z",
     "start_time": "2024-04-30T10:43:24.348431031Z"
    }
   },
   "id": "5d50811a60458987"
  },
  {
   "cell_type": "code",
   "execution_count": null,
   "outputs": [],
   "source": [],
   "metadata": {
    "collapsed": false
   },
   "id": "cb9b6917dcf009a"
  }
 ],
 "metadata": {
  "kernelspec": {
   "display_name": "Python 3",
   "language": "python",
   "name": "python3"
  },
  "language_info": {
   "codemirror_mode": {
    "name": "ipython",
    "version": 2
   },
   "file_extension": ".py",
   "mimetype": "text/x-python",
   "name": "python",
   "nbconvert_exporter": "python",
   "pygments_lexer": "ipython2",
   "version": "2.7.6"
  }
 },
 "nbformat": 4,
 "nbformat_minor": 5
}
